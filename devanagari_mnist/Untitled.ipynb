{
 "cells": [
  {
   "cell_type": "code",
   "execution_count": null,
   "id": "1c85e905-7bc4-4626-b538-5022bc09de92",
   "metadata": {},
   "outputs": [],
   "source": [
    "def plot_loss_curves(results: Dict[str, List[float]]):\n",
    "  \"\"\"Plots training curves of a results dictionary.\"\"\"\n",
    "  # Get the loss values of the results dictionary(training and test)\n",
    "  loss = results[\"train_loss\"]\n",
    "  test_loss = results[\"test_loss\"]\n",
    "\n",
    "  # Get the accuracy values of the results dictionary (training and test)\n",
    "  accuracy = results[\"train_acc\"]\n",
    "  test_accuracy = results[\"test_acc\"]\n",
    "\n",
    "  # Figure out how mnay epochs there were\n",
    "  epochs = range(len(results[\"train_loss\"]))\n",
    "\n",
    "  # Setup a plot\n",
    "  plt.figure(figsize=(15, 7))\n",
    "\n",
    "  # Plot the loss\n",
    "  plt.subplot(1, 2, 1)\n",
    "  plt.plot(epochs, loss, label=\"train_loss\")\n",
    "  plt.plot(epochs, test_loss, label=\"test_loss\")\n",
    "  plt.title(\"Loss\")\n",
    "  plt.xlabel(\"Epochs\")\n",
    "  plt.legend()\n",
    "\n",
    "  # Plot the accuracy\n",
    "  plt.subplot(1, 2, 2)\n",
    "  plt.plot(epochs, accuracy, label=\"train_accuracy\")\n",
    "  plt.plot(epochs, test_accuracy, label=\"test_accuracy\")\n",
    "  plt.title(\"Accuracy\")\n",
    "  plt.xlabel(\"Epochs\")\n",
    "  plt.legend();\n",
    "\n",
    "\n",
    "plot_loss_curves(model_0_results)\n"
   ]
  }
 ],
 "metadata": {
  "kernelspec": {
   "display_name": "Python 3 (ipykernel)",
   "language": "python",
   "name": "python3"
  },
  "language_info": {
   "codemirror_mode": {
    "name": "ipython",
    "version": 3
   },
   "file_extension": ".py",
   "mimetype": "text/x-python",
   "name": "python",
   "nbconvert_exporter": "python",
   "pygments_lexer": "ipython3",
   "version": "3.12.7"
  }
 },
 "nbformat": 4,
 "nbformat_minor": 5
}
